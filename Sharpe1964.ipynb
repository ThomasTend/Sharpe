{
 "cells": [
  {
   "cell_type": "markdown",
   "metadata": {},
   "source": [
    "### Backtest of trivial long/short strategy; Sharpe Ratio "
   ]
  },
  {
   "cell_type": "code",
   "execution_count": 102,
   "metadata": {},
   "outputs": [
    {
     "name": "stdout",
     "output_type": "stream",
     "text": [
      "Universe = AAPL MSFT JPM ADBE AMD ACN GOOGL AMZN AAL AEE AXP AEP AWK APA AMAT BA BLK BAC CHD KO\n",
      "[*********************100%***********************]  20 of 20 completed\n",
      "Short = Index(['AEP', 'APA', 'CHD', 'AEE', 'AWK'], dtype='object')\n",
      "Short pnl = [-1.520460442401002, 2.234199712383098, 1.9155870854803632, -2.195621116188026, -0.7955938106101512, 0.3011531610520387, -2.424544564697218, -1.032706912489732, 0.6550552145196658, -1.295801553297098, -0.39049316607682816, 1.6166510437447976, 0.1453294722161515, 0.7334389079414176, 2.0409051163193506, 0.32351676942226537, 0.7913900314496849, -1.9816456964192974, -0.04791259412460763, 1.5117204923552252, 0.3154075478756686, -0.5784242390360212, 1.2099371969924684, 1.5203678029637335, 1.785129606906846, 1.492627209869969, -1.5324600517449327, -0.7634900274863613, 0.8744115801475603]\n",
      "Long = Index(['BAC', 'JPM', 'BA', 'AAPL', 'GOOGL'], dtype='object')\n",
      "Long pnl = [1.1409719265599105, -0.32688529081015594, -0.4519510799172196, 0.12937387613599316, 1.8879471650791562, -1.2506436983864357, 1.5822357874042843, -0.20664150344060245, 1.2891801393985922, -0.09338619214892441, -1.3024671976661515, -1.861534761001115, -1.3036660090038532, -0.372549968243537, -1.0435949260588053, -0.18459801464520043, -0.41019132737810826, 0.9975839054439418, -1.0781399977646644, -1.3705905774346547, 0.06176574434697113, 0.1253870167219613, 0.058832708203689243, -1.065112801453421, -2.4930548613918195, -1.320163763423687, 0.11324329088512997, 1.4086248638172527, -0.14575826355322308]\n",
      "Risk 0.9932591341911109\n",
      "Expected returns 0.05031227681709571\n",
      "Sharpe Ratio = 0.0003143961191457005\n"
     ]
    }
   ],
   "source": [
    "import yfinance as yf\n",
    "import pandas as pd\n",
    "import numpy as np\n",
    "\n",
    "tickers = ['AAPL', 'MSFT', 'JPM', 'ADBE', 'AMD', 'ACN', 'GOOGL', 'AMZN', 'AAL',\\\n",
    "        'AEE', 'AXP', 'AEP', 'AWK', 'APA', 'AMAT', 'BA', 'BLK', 'BAC', 'CHD', 'KO']\n",
    "tickers_str = ' '.join(tickers)\n",
    "print(f'Universe = {tickers_str}')\n",
    "\n",
    "df = yf.download(tickers_str, period='5y')['Close']\n",
    "df = (df-df.mean())/df.std()\n",
    "\n",
    "def compute_pnl(short, long, idx_t0, idx_t1):\n",
    "    # 6M returns\n",
    "    return (df[short].iloc[idx_t0]-df[short].iloc[idx_t1]).sum(), (df[long].iloc[idx_t1]-df[long].iloc[idx_t0]).sum()\n",
    "\n",
    "def get_short_long(idate, shift):  \n",
    "    # short 5 with lowest close 6 month returns, long 5 with highest\n",
    "    date = df.index[idate]\n",
    "    ret = (df.loc[:date]-df.loc[:date].shift(shift)) / df.loc[:date].shift(shift)\n",
    "    ret_mean = ret.mean()\n",
    "    long = ret_mean.nlargest().index\n",
    "    short = ret_mean.nsmallest().index\n",
    "    return short, long\n",
    "\n",
    "shift = 5\n",
    "n = 100\n",
    "idx = [150+shift*i for i in range(n)]\n",
    "short, long = get_short_long(idx[0], shift)\n",
    "pnl = []\n",
    "for i in range(n-1):\n",
    "    spnl, lpnl = compute_pnl(short, long, idx[i], idx[i+1])\n",
    "    pnl.append(spnl+lpnl)\n",
    "\n",
    "def compute_Sharpe(pnl): # current risk-free rate = 5%\n",
    "    print('Risk', np.std(pnl))\n",
    "    print('Expected returns', np.mean(pnl))\n",
    "    return (np.mean(pnl)-0.05) / np.std(pnl)\n",
    "\n",
    "\n",
    "print(f'Short = {short}')\n",
    "print(f'Short pnl = {short_pnl}')\n",
    "print(f'Long = {long}')\n",
    "print(f'Long pnl = {lg_pnl}')\n",
    "print(f'Sharpe Ratio = {compute_Sharpe(pnl)}')\n",
    "\n"
   ]
  }
 ],
 "metadata": {
  "kernelspec": {
   "display_name": "Python 3",
   "language": "python",
   "name": "python3"
  },
  "language_info": {
   "codemirror_mode": {
    "name": "ipython",
    "version": 3
   },
   "file_extension": ".py",
   "mimetype": "text/x-python",
   "name": "python",
   "nbconvert_exporter": "python",
   "pygments_lexer": "ipython3",
   "version": "3.8.10"
  }
 },
 "nbformat": 4,
 "nbformat_minor": 2
}
